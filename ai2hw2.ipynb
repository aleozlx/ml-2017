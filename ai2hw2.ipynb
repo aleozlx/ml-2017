{
 "cells": [
  {
   "cell_type": "code",
   "execution_count": 1,
   "metadata": {
    "collapsed": true
   },
   "outputs": [],
   "source": [
    "import os, sys\n",
    "import numpy as np\n",
    "\n",
    "bayes_net = [('D', 0.2), ('I', 0.1), ('G|ID', [[0.1, 0.2], [0.2, 0.5]]), ('S|I', [0.3, 0.2]), ('R|G', [0.6, 0.2])]\n",
    "\n",
    "def make_tensors(formula):\n",
    "    \"\"\" Preprocess probability distributions into form of tensors (axes, 2^len(axes)-array),\n",
    "          containing the complete distribution with negative cases. \"\"\"\n",
    "    return [(axes[0]+axes[2:] if '|' in axes else axes, np.array([np.reshape(1.0 - dist.ravel(), dist.shape), dist])) \n",
    "        for axes, dist in ((_, np.array(_dist)) for _, _dist in formula) ]"
   ]
  },
  {
   "cell_type": "markdown",
   "metadata": {},
   "source": [
    "# Variable Elimination"
   ]
  },
  {
   "cell_type": "code",
   "execution_count": 2,
   "metadata": {
    "collapsed": true
   },
   "outputs": [],
   "source": [
    "def ve(order, formula, **query):\n",
    "    \"\"\" Variable Elimination algorithm that computes marginal probabilities for a Bayesian network \"\"\"\n",
    "    tensors = make_tensors(formula)\n",
    "    while order:\n",
    "        var, order = order[0], order[1:]\n",
    "        # Leave in the summation for Xi only factors mentioning Xi\n",
    "        factors = list(filter(lambda i: var in i[0], tensors))\n",
    "        # Multiply the factors, getting a factor that contains a number for each value of the variables mentioned, including Xi\n",
    "        axes, tensor_out = ve_product(factors)\n",
    "        # Sum out Xi, getting a factor f that contains a number for each value of the variables mentioned, not including Xi\n",
    "        tensor_out = np.sum(tensor_out, axis = axes.index(var))\n",
    "        axes.remove(var)\n",
    "        # Replace the multiplied factor in the summation\n",
    "        tensors = list(filter(lambda i: var not in i[0], tensors))\n",
    "        tensors.append((''.join(axes), tensor_out))\n",
    "    if query:\n",
    "        result_axes, result_tensor = ve_product(tensors)\n",
    "        return result_tensor[tuple(map(query.get, result_axes))]\n",
    "    else: # Default query asks for probability of the positive case for the only remaining variable\n",
    "        return tensors[0][1][1]\n",
    "\n",
    "def ve_product(factors):\n",
    "    \"\"\" Tensor point-wise multiplication \"\"\"\n",
    "    axes = list(set(''.join(map(lambda i: i[0], factors))))\n",
    "    tensor_out = np.zeros((2,) * len(axes))\n",
    "    for assignments in range(1<<len(axes)):\n",
    "        # Maps axes of tensor to a given set of index assignments\n",
    "        idx = lambda a: tuple(map({v:((assignments>>(len(axes)-1-i))&1) for i, v in enumerate(axes)}.get, a))\n",
    "        tensor_out[idx(axes)] = np.prod([i[1][idx(i[0])] for i in factors])\n",
    "    return axes, tensor_out"
   ]
  },
  {
   "cell_type": "markdown",
   "metadata": {},
   "source": [
    "Run a query by specifying variables and the order to eliminate.\n",
    "\n",
    "$$P(s) = \\sum_{IDGR} P(D)P(I)P(G|ID)P(S|I)P(R|G) = \\sum_R \\sum_G P(R|G)  \\sum_D P(D) \\sum_I P(I)P(G|ID)P(S|I)$$"
   ]
  },
  {
   "cell_type": "code",
   "execution_count": 26,
   "metadata": {},
   "outputs": [
    {
     "data": {
      "text/plain": [
       "0.29000000000000004"
      ]
     },
     "execution_count": 26,
     "metadata": {},
     "output_type": "execute_result"
    }
   ],
   "source": [
    "ve('IDGR', bayes_net)"
   ]
  },
  {
   "cell_type": "markdown",
   "metadata": {},
   "source": [
    "$$P(g) = \\sum_{IDSR} P(D)P(I)P(G|ID)P(S|I)P(R|G) = = \\sum_R P(R|G) \\sum_S P(S|I) \\sum_D P(D) \\sum_I P(I)P(G|ID)P(S|I) $$"
   ]
  },
  {
   "cell_type": "code",
   "execution_count": 4,
   "metadata": {},
   "outputs": [
    {
     "data": {
      "text/plain": [
       "0.13400000000000001"
      ]
     },
     "execution_count": 4,
     "metadata": {},
     "output_type": "execute_result"
    }
   ],
   "source": [
    "ve('IDSR', bayes_net)"
   ]
  },
  {
   "cell_type": "markdown",
   "metadata": {},
   "source": [
    "Condictional queries are done by dividing marginal probabilities.\n",
    "\n",
    "$$P(g|\\neg i, \\neg d) = \\frac{P(g, \\neg i, \\neg d)}{P(\\neg i, \\neg d)}=\\frac{\\sum_{SR}P(\\neg d)P(\\neg i)P(g|\\neg i,\\neg d)P(S|\\neg i)P(R|g)}{\\sum_{GSR}P(\\neg d)P(\\neg i)P(G|\\neg i,\\neg d)P(S|\\neg i)P(R|G)} $$"
   ]
  },
  {
   "cell_type": "code",
   "execution_count": 5,
   "metadata": {},
   "outputs": [
    {
     "data": {
      "text/plain": [
       "0.10000000000000001"
      ]
     },
     "execution_count": 5,
     "metadata": {},
     "output_type": "execute_result"
    }
   ],
   "source": [
    "ve('SR', bayes_net, G=1, I=0, D=0) / ve('GSR', bayes_net, I=0, D=0)"
   ]
  },
  {
   "cell_type": "markdown",
   "metadata": {},
   "source": [
    "$$P(i|s) = \\frac{P(si)}{P(s)}$$"
   ]
  },
  {
   "cell_type": "code",
   "execution_count": 6,
   "metadata": {},
   "outputs": [
    {
     "data": {
      "text/plain": [
       "0.068965517241379309"
      ]
     },
     "execution_count": 6,
     "metadata": {},
     "output_type": "execute_result"
    }
   ],
   "source": [
    "ve('DGR', bayes_net, S=1, I=1) / ve('IDGR', bayes_net)"
   ]
  },
  {
   "cell_type": "markdown",
   "metadata": {},
   "source": [
    "$$P(i|r) = \\frac{P(ri)}{P(r)}$$"
   ]
  },
  {
   "cell_type": "code",
   "execution_count": 7,
   "metadata": {},
   "outputs": [
    {
     "data": {
      "text/plain": [
       "0.09077598828696927"
      ]
     },
     "execution_count": 7,
     "metadata": {},
     "output_type": "execute_result"
    }
   ],
   "source": [
    "ve('DGS', bayes_net, R=1, I=1) / ve('IDGS', bayes_net)"
   ]
  },
  {
   "cell_type": "markdown",
   "metadata": {},
   "source": [
    "# Direct Sampling"
   ]
  },
  {
   "cell_type": "code",
   "execution_count": 8,
   "metadata": {
    "collapsed": true
   },
   "outputs": [],
   "source": [
    "import random\n",
    "\n",
    "def ds(order, formula, query, condition = {}):\n",
    "    \"\"\" Direct Sampling algorithm that computes marginal probabilities for a Bayesian network\n",
    "          Note: `order` must be a topological order of the casual DAG. \"\"\"\n",
    "    tensors = make_tensors(formula)\n",
    "    tensor_index = {axes[0]:(axes, dist) for axes, dist in tensors}\n",
    "    sample = {v:0 for v in order}\n",
    "    total_samples = [0]\n",
    "    def one_sample():\n",
    "        \"\"\" Take one sample with Reject Sampling \"\"\"\n",
    "        while 1: # Loop until the sample is not rejected\n",
    "            for var in order:\n",
    "                axes, dist = tensor_index[var]\n",
    "                prob = dist[tuple(map(lambda v:sample[v] if v!=var else 1, axes))]\n",
    "                sample[var] = int(random.random()<prob)\n",
    "            total_samples[0] += 1\n",
    "            if not any(condition[var]!=sample[var] for var in condition):\n",
    "                break\n",
    "    counter = 0\n",
    "    for i in range(100):\n",
    "        one_sample()\n",
    "        if all(query[var]==sample[var] for var in query):\n",
    "            counter += 1\n",
    "    print(\"total samples:\", total_samples)\n",
    "    return counter/100"
   ]
  },
  {
   "cell_type": "markdown",
   "metadata": {},
   "source": [
    "Run a query by specifying the topological order to sample any variables."
   ]
  },
  {
   "cell_type": "code",
   "execution_count": 9,
   "metadata": {},
   "outputs": [
    {
     "name": "stdout",
     "output_type": "stream",
     "text": [
      "total samples: [100]\n"
     ]
    },
    {
     "data": {
      "text/plain": [
       "0.34"
      ]
     },
     "execution_count": 9,
     "metadata": {},
     "output_type": "execute_result"
    }
   ],
   "source": [
    "ds('IDGSR', bayes_net, dict(S=1))"
   ]
  },
  {
   "cell_type": "code",
   "execution_count": 10,
   "metadata": {},
   "outputs": [
    {
     "name": "stdout",
     "output_type": "stream",
     "text": [
      "total samples: [100]\n"
     ]
    },
    {
     "data": {
      "text/plain": [
       "0.14"
      ]
     },
     "execution_count": 10,
     "metadata": {},
     "output_type": "execute_result"
    }
   ],
   "source": [
    "ds('IDGSR', bayes_net, dict(G=1))"
   ]
  },
  {
   "cell_type": "markdown",
   "metadata": {},
   "source": [
    "... and the given evidence variables if any."
   ]
  },
  {
   "cell_type": "code",
   "execution_count": 11,
   "metadata": {},
   "outputs": [
    {
     "name": "stdout",
     "output_type": "stream",
     "text": [
      "total samples: [145]\n"
     ]
    },
    {
     "data": {
      "text/plain": [
       "0.09"
      ]
     },
     "execution_count": 11,
     "metadata": {},
     "output_type": "execute_result"
    }
   ],
   "source": [
    "ds('IDGSR', bayes_net, dict(G=1), dict(I=0, D=0))"
   ]
  },
  {
   "cell_type": "code",
   "execution_count": 12,
   "metadata": {},
   "outputs": [
    {
     "name": "stdout",
     "output_type": "stream",
     "text": [
      "total samples: [420]\n"
     ]
    },
    {
     "data": {
      "text/plain": [
       "0.09"
      ]
     },
     "execution_count": 12,
     "metadata": {},
     "output_type": "execute_result"
    }
   ],
   "source": [
    "ds('IDGSR', bayes_net, dict(I=1), dict(S=1))"
   ]
  },
  {
   "cell_type": "code",
   "execution_count": 13,
   "metadata": {},
   "outputs": [
    {
     "name": "stdout",
     "output_type": "stream",
     "text": [
      "total samples: [159]\n"
     ]
    },
    {
     "data": {
      "text/plain": [
       "0.13"
      ]
     },
     "execution_count": 13,
     "metadata": {},
     "output_type": "execute_result"
    }
   ],
   "source": [
    "ds('IDGSR', bayes_net, dict(I=1), dict(R=1))"
   ]
  },
  {
   "cell_type": "markdown",
   "metadata": {},
   "source": [
    "# Likelihood Weighting"
   ]
  },
  {
   "cell_type": "code",
   "execution_count": 14,
   "metadata": {
    "collapsed": true
   },
   "outputs": [],
   "source": [
    "def ws(order, formula, query, condition = {}):\n",
    "    \"\"\" Likelihood Weighting algorithm that computes marginal probabilities for a Bayesian network\n",
    "          Note: `order` must be a topological order of unknowns from the casual DAG. \"\"\"\n",
    "    tensors = make_tensors(formula)\n",
    "    tensor_index = {axes[0]:(axes, dist) for axes, dist in tensors}\n",
    "    sample = {v:0 for v in order}\n",
    "    def one_sample():\n",
    "        \"\"\" Take one sample with Likelihood Weighting \"\"\"\n",
    "        weights = list()\n",
    "        for var in order:\n",
    "            axes, dist = tensor_index[var]\n",
    "            if var not in condition:\n",
    "                prob = dist[tuple(map(lambda v:sample[v] if v!=var else 1, axes))]\n",
    "                sample[var] = int(random.random()<prob)\n",
    "            else:\n",
    "                sample[var] = condition[var]\n",
    "                prob = dist[tuple(map(sample.get, axes))]\n",
    "                weights.append(prob)\n",
    "        #print(weights)\n",
    "        return weights\n",
    "    counter = 0\n",
    "    for i in range(100):\n",
    "        W = one_sample()\n",
    "        if all(query[var]==sample[var] for var in query):\n",
    "            counter += 1 * np.prod(W)\n",
    "    return counter/100"
   ]
  },
  {
   "cell_type": "code",
   "execution_count": 15,
   "metadata": {},
   "outputs": [
    {
     "data": {
      "text/plain": [
       "0.26000000000000001"
      ]
     },
     "execution_count": 15,
     "metadata": {},
     "output_type": "execute_result"
    }
   ],
   "source": [
    "ws('IDGSR', bayes_net, dict(S=1))"
   ]
  },
  {
   "cell_type": "code",
   "execution_count": 16,
   "metadata": {},
   "outputs": [
    {
     "data": {
      "text/plain": [
       "0.17000000000000001"
      ]
     },
     "execution_count": 16,
     "metadata": {},
     "output_type": "execute_result"
    }
   ],
   "source": [
    "ws('IDGSR', bayes_net, dict(G=1))"
   ]
  },
  {
   "cell_type": "code",
   "execution_count": 17,
   "metadata": {},
   "outputs": [
    {
     "data": {
      "text/plain": [
       "0.0504"
      ]
     },
     "execution_count": 17,
     "metadata": {},
     "output_type": "execute_result"
    }
   ],
   "source": [
    "ws('IDGSR', bayes_net, dict(G=1), dict(I=0, D=0))"
   ]
  },
  {
   "cell_type": "code",
   "execution_count": 18,
   "metadata": {},
   "outputs": [
    {
     "data": {
      "text/plain": [
       "0.017999999999999999"
      ]
     },
     "execution_count": 18,
     "metadata": {},
     "output_type": "execute_result"
    }
   ],
   "source": [
    "ws('IDGSR', bayes_net, dict(I=1), dict(S=1))"
   ]
  },
  {
   "cell_type": "code",
   "execution_count": 19,
   "metadata": {},
   "outputs": [
    {
     "data": {
      "text/plain": [
       "0.050000000000000003"
      ]
     },
     "execution_count": 19,
     "metadata": {},
     "output_type": "execute_result"
    }
   ],
   "source": [
    "ws('IDGSR', bayes_net, dict(I=1), dict(R=1))"
   ]
  },
  {
   "cell_type": "markdown",
   "metadata": {},
   "source": [
    "# Markov Chain Monte Carlo"
   ]
  },
  {
   "cell_type": "code",
   "execution_count": 20,
   "metadata": {},
   "outputs": [],
   "source": [
    "def mcmc(all_vars, formula, query, condition = {}):\n",
    "    \"\"\" Markov Chain Monte Carlo algorithm for bayesian inference. \"\"\"\n",
    "    tensors = make_tensors(formula)\n",
    "    tensor_index = {axes[0]:(axes, dist) for axes, dist in tensors}\n",
    "    non_evidence = list(set(all_vars)-condition.keys())\n",
    "    sample = {v:(0 if v in non_evidence else condition[v]) for v in all_vars}\n",
    "    def one_sample():\n",
    "        # Pick one non-evidence varible\n",
    "        var = random.choice(non_evidence)\n",
    "        axes, dist = tensor_index[var]\n",
    "        prob = dist[tuple(map(lambda v:sample[v] if v!=var else 1, axes))]\n",
    "        sample[var] = int(random.random()<prob)\n",
    "    counter = 0\n",
    "    for i in range(100):\n",
    "        one_sample()\n",
    "        if all(query[var]==sample[var] for var in query):\n",
    "            counter += 1\n",
    "    return counter/100"
   ]
  },
  {
   "cell_type": "code",
   "execution_count": 21,
   "metadata": {},
   "outputs": [
    {
     "data": {
      "text/plain": [
       "0.23"
      ]
     },
     "execution_count": 21,
     "metadata": {},
     "output_type": "execute_result"
    }
   ],
   "source": [
    "mcmc('IDGSR', bayes_net, dict(S=1))"
   ]
  },
  {
   "cell_type": "code",
   "execution_count": 22,
   "metadata": {},
   "outputs": [
    {
     "data": {
      "text/plain": [
       "0.19"
      ]
     },
     "execution_count": 22,
     "metadata": {},
     "output_type": "execute_result"
    }
   ],
   "source": [
    "mcmc('IDGSR', bayes_net, dict(G=1))"
   ]
  },
  {
   "cell_type": "code",
   "execution_count": 23,
   "metadata": {},
   "outputs": [
    {
     "data": {
      "text/plain": [
       "0.19"
      ]
     },
     "execution_count": 23,
     "metadata": {},
     "output_type": "execute_result"
    }
   ],
   "source": [
    "mcmc('IDGSR', bayes_net, dict(G=1), dict(I=0, D=0))"
   ]
  },
  {
   "cell_type": "code",
   "execution_count": 24,
   "metadata": {},
   "outputs": [
    {
     "data": {
      "text/plain": [
       "0.09"
      ]
     },
     "execution_count": 24,
     "metadata": {},
     "output_type": "execute_result"
    }
   ],
   "source": [
    "mcmc('IDGSR', bayes_net, dict(I=1), dict(S=1))"
   ]
  },
  {
   "cell_type": "code",
   "execution_count": 25,
   "metadata": {},
   "outputs": [
    {
     "data": {
      "text/plain": [
       "0.04"
      ]
     },
     "execution_count": 25,
     "metadata": {},
     "output_type": "execute_result"
    }
   ],
   "source": [
    "mcmc('IDGSR', bayes_net, dict(I=1), dict(R=1))"
   ]
  },
  {
   "cell_type": "code",
   "execution_count": null,
   "metadata": {
    "collapsed": true
   },
   "outputs": [],
   "source": []
  }
 ],
 "metadata": {
  "kernelspec": {
   "display_name": "Python 3",
   "language": "python",
   "name": "python3"
  },
  "language_info": {
   "codemirror_mode": {
    "name": "ipython",
    "version": 3
   },
   "file_extension": ".py",
   "mimetype": "text/x-python",
   "name": "python",
   "nbconvert_exporter": "python",
   "pygments_lexer": "ipython3",
   "version": "3.4.5"
  }
 },
 "nbformat": 4,
 "nbformat_minor": 2
}
