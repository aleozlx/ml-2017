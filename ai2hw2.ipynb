{
 "cells": [
  {
   "cell_type": "code",
   "execution_count": null,
   "metadata": {
    "collapsed": true
   },
   "outputs": [],
   "source": [
    "import os, sys\n",
    "import numpy as np\n",
    "\n",
    "bayes_net = [('D', 0.2), ('I', 0.1), ('G|ID', [[0.1, 0.2], [0.2, 0.5]]), ('S|I', [0.3, 0.2]), ('R|G', [0.6, 0.2])]\n",
    "\n",
    "def make_tensors(formula):\n",
    "    \"\"\" Preprocess probability distributions into form of tensors (axes, 2^len(axes)-array),\n",
    "          containing the complete distribution with negative cases. \"\"\"\n",
    "    return [(axes[0]+axes[2:] if '|' in axes else axes, np.array([np.reshape(1.0 - dist.ravel(), dist.shape), dist])) \n",
    "        for axes, dist in ((_, np.array(_dist)) for _, _dist in formula) ]"
   ]
  },
  {
   "cell_type": "markdown",
   "metadata": {},
   "source": [
    "# Variable Elimination"
   ]
  },
  {
   "cell_type": "code",
   "execution_count": 2,
   "metadata": {
    "collapsed": true
   },
   "outputs": [],
   "source": [
    "def ve(order, formula, **query):\n",
    "    \"\"\" Variable Elimination algorithm that computes marginal probabilities for a Bayesian network \"\"\"\n",
    "    tensors = make_tensors(formula)\n",
    "    while order:\n",
    "        var, order = order[0], order[1:]\n",
    "        # Leave in the summation for Xi only factors mentioning Xi\n",
    "        factors = list(filter(lambda i: var in i[0], tensors))\n",
    "        # Multiply the factors, getting a factor that contains a number for each value of the variables mentioned, including Xi\n",
    "        axes, tensor_out = ve_product(factors)\n",
    "        # Sum out Xi, getting a factor f that contains a number for each value of the variables mentioned, not including Xi\n",
    "        tensor_out = np.sum(tensor_out, axis = axes.index(var))\n",
    "        axes.remove(var)\n",
    "        # Replace the multiplied factor in the summation\n",
    "        tensors = list(filter(lambda i: var not in i[0], tensors))\n",
    "        tensors.append((''.join(axes), tensor_out))\n",
    "    if query:\n",
    "        result_axes, result_tensor = ve_product(tensors)\n",
    "        return result_tensor[tuple(map(query.get, result_axes))]\n",
    "    else: # Default query asks for probability of the positive case for the only remaining variable\n",
    "        return tensors[0][1][1]\n",
    "\n",
    "def ve_product(factors):\n",
    "    \"\"\" Tensor point-wise multiplication \"\"\"\n",
    "    axes = list(set(''.join(map(lambda i: i[0], factors))))\n",
    "    tensor_out = np.zeros((2,) * len(axes))\n",
    "    for assignments in range(1<<len(axes)):\n",
    "        # Maps axes of tensor to a given set of index assignments\n",
    "        idx = lambda a: tuple(map({v:((assignments>>(len(axes)-1-i))&1) for i, v in enumerate(axes)}.get, a))\n",
    "        tensor_out[idx(axes)] = np.prod([i[1][idx(i[0])] for i in factors])\n",
    "    return axes, tensor_out"
   ]
  },
  {
   "cell_type": "code",
   "execution_count": 3,
   "metadata": {},
   "outputs": [
    {
     "data": {
      "text/plain": [
       "0.29000000000000004"
      ]
     },
     "execution_count": 3,
     "metadata": {},
     "output_type": "execute_result"
    }
   ],
   "source": [
    "ve('IDGR', bayes_net)"
   ]
  },
  {
   "cell_type": "code",
   "execution_count": 4,
   "metadata": {},
   "outputs": [
    {
     "data": {
      "text/plain": [
       "0.13400000000000001"
      ]
     },
     "execution_count": 4,
     "metadata": {},
     "output_type": "execute_result"
    }
   ],
   "source": [
    "ve('IDSR', bayes_net)"
   ]
  },
  {
   "cell_type": "code",
   "execution_count": 5,
   "metadata": {},
   "outputs": [
    {
     "data": {
      "text/plain": [
       "0.10000000000000001"
      ]
     },
     "execution_count": 5,
     "metadata": {},
     "output_type": "execute_result"
    }
   ],
   "source": [
    "ve('SR', bayes_net, G=1, I=0, D=0) / ve('GSR', bayes_net, I=0, D=0)"
   ]
  },
  {
   "cell_type": "code",
   "execution_count": 6,
   "metadata": {},
   "outputs": [
    {
     "data": {
      "text/plain": [
       "0.068965517241379309"
      ]
     },
     "execution_count": 6,
     "metadata": {},
     "output_type": "execute_result"
    }
   ],
   "source": [
    "ve('DGR', bayes_net, S=1, I=1) / ve('IDGR', bayes_net)"
   ]
  },
  {
   "cell_type": "code",
   "execution_count": 7,
   "metadata": {},
   "outputs": [
    {
     "data": {
      "text/plain": [
       "0.09077598828696927"
      ]
     },
     "execution_count": 7,
     "metadata": {},
     "output_type": "execute_result"
    }
   ],
   "source": [
    "ve('DGS', bayes_net, R=1, I=1) / ve('IDGS', bayes_net)"
   ]
  },
  {
   "cell_type": "markdown",
   "metadata": {},
   "source": [
    "# Direct Sampling"
   ]
  },
  {
   "cell_type": "code",
   "execution_count": null,
   "metadata": {
    "collapsed": true
   },
   "outputs": [],
   "source": [
    "def ds(order, formula, **query):\n",
    "    \"\"\" Direct Sampling algorithm that computes marginal probabilities for a Bayesian network\n",
    "        `order` should be a topological order of the casual DAG. \"\"\"\n",
    "    tensors = make_tensors(formula)"
   ]
  },
  {
   "cell_type": "code",
   "execution_count": null,
   "metadata": {
    "collapsed": true
   },
   "outputs": [],
   "source": []
  }
 ],
 "metadata": {
  "kernelspec": {
   "display_name": "Python 3",
   "language": "python",
   "name": "python3"
  },
  "language_info": {
   "codemirror_mode": {
    "name": "ipython",
    "version": 3
   },
   "file_extension": ".py",
   "mimetype": "text/x-python",
   "name": "python",
   "nbconvert_exporter": "python",
   "pygments_lexer": "ipython3",
   "version": "3.4.5"
  }
 },
 "nbformat": 4,
 "nbformat_minor": 2
}
