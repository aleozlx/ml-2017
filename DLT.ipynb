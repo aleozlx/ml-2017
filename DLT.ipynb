{
 "cells": [
  {
   "cell_type": "code",
   "execution_count": 1,
   "metadata": {
    "collapsed": true
   },
   "outputs": [],
   "source": [
    "import os, sys\n",
    "import itertools, random\n",
    "import numpy as np"
   ]
  },
  {
   "cell_type": "code",
   "execution_count": 2,
   "metadata": {},
   "outputs": [
    {
     "data": {
      "text/plain": [
       "8.0000000000000018"
      ]
     },
     "execution_count": 2,
     "metadata": {},
     "output_type": "execute_result"
    }
   ],
   "source": [
    "H = np.array([\n",
    "    [3, 7, 0],\n",
    "    [1, 5, 1],\n",
    "    [0, 0, 1],\n",
    "])\n",
    "\n",
    "np.linalg.det(H)"
   ]
  },
  {
   "cell_type": "code",
   "execution_count": 3,
   "metadata": {},
   "outputs": [
    {
     "name": "stdout",
     "output_type": "stream",
     "text": [
      "(3, 6) (3, 6)\n"
     ]
    }
   ],
   "source": [
    "X = np.array([\n",
    "    [1, 2, 1],\n",
    "    [0.4, 0.5, 1],\n",
    "    [-3, 4, 1],\n",
    "    [9, 0.2, 1],\n",
    "    [3, 2, 1],\n",
    "    [4, 1.8, 1]\n",
    "]).T\n",
    "\n",
    "Y = np.dot(H, X)\n",
    "\n",
    "print(X.shape, Y.shape)"
   ]
  },
  {
   "cell_type": "code",
   "execution_count": 4,
   "metadata": {},
   "outputs": [
    {
     "name": "stdout",
     "output_type": "stream",
     "text": [
      "(3, 9)\n",
      "[ 0.  0.  0.]\n"
     ]
    }
   ],
   "source": [
    "def homography_kron(x, y):\n",
    "    Y = np.array([\n",
    "        [0, -y[2], y[1]],\n",
    "        [-y[2], 0, y[0]],\n",
    "        [-y[1], y[0], 0]\n",
    "    ])\n",
    "    return np.kron(Y, x.T)\n",
    "\n",
    "A = homography_kron(X[:, 0], Y[:, 0])\n",
    "print(A.shape)\n",
    "print(np.dot(A, H.ravel()))\n"
   ]
  },
  {
   "cell_type": "code",
   "execution_count": 5,
   "metadata": {},
   "outputs": [
    {
     "name": "stdout",
     "output_type": "stream",
     "text": [
      "(12, 9)\n"
     ]
    }
   ],
   "source": [
    "def homography_kron_stack(X, Y):\n",
    "    return np.vstack([homography_kron(x, y) for x,y in zip(X.T, Y.T)])\n",
    "\n",
    "A = homography_kron_stack(X[:, :4], Y[:, :4])\n",
    "print(A.shape)"
   ]
  },
  {
   "cell_type": "code",
   "execution_count": 6,
   "metadata": {},
   "outputs": [
    {
     "data": {
      "text/plain": [
       "True"
      ]
     },
     "execution_count": 6,
     "metadata": {},
     "output_type": "execute_result"
    }
   ],
   "source": [
    "U,s,V = np.linalg.svd(A)\n",
    "S = np.zeros_like(A)\n",
    "S[:len(s), :len(s)] = np.diag(s)\n",
    "np.allclose(A, np.dot(U, np.dot(S, V)))"
   ]
  },
  {
   "cell_type": "code",
   "execution_count": 7,
   "metadata": {},
   "outputs": [
    {
     "data": {
      "text/plain": [
       "array([[  3.23498320e-01,   7.54829412e-01,  -5.82875762e-14],\n",
       "       [  1.07832773e-01,   5.39163866e-01,   1.07832773e-01],\n",
       "       [  1.20736754e-15,   2.90826391e-15,   1.07832773e-01]])"
      ]
     },
     "execution_count": 7,
     "metadata": {},
     "output_type": "execute_result"
    }
   ],
   "source": [
    "V.T[:, -1].reshape(-1, X.shape[0])"
   ]
  },
  {
   "cell_type": "code",
   "execution_count": 8,
   "metadata": {},
   "outputs": [],
   "source": [
    "H_DLT = V.T[:, -1].reshape(-1, X.shape[0]) / V[-1,-1]"
   ]
  },
  {
   "cell_type": "code",
   "execution_count": 9,
   "metadata": {},
   "outputs": [
    {
     "data": {
      "text/plain": [
       "True"
      ]
     },
     "execution_count": 9,
     "metadata": {},
     "output_type": "execute_result"
    }
   ],
   "source": [
    "np.allclose(H, H_DLT)"
   ]
  },
  {
   "cell_type": "code",
   "execution_count": 10,
   "metadata": {},
   "outputs": [
    {
     "data": {
      "text/plain": [
       "array([[  3.00000000e+00,   7.00000000e+00,  -5.45097455e-11],\n",
       "       [  1.00000000e+00,   5.00000000e+00,   1.00000000e+00],\n",
       "       [  3.33712124e-13,   1.04796108e-12,   1.00000000e+00]])"
      ]
     },
     "execution_count": 10,
     "metadata": {},
     "output_type": "execute_result"
    }
   ],
   "source": [
    "def dlt(X, Y):\n",
    "    choices = np.random.permutation(X.shape[1])[:4]\n",
    "    A = np.vstack([homography_kron(x, y) for x,y in zip(X[:, choices].T, Y[:, choices].T)])\n",
    "    V = np.linalg.svd(A)[2].T\n",
    "    H = V[:, -1].reshape(-1, X.shape[0]) / V[-1,-1]\n",
    "    return H\n",
    "    \n",
    "dlt(X, Y)"
   ]
  },
  {
   "cell_type": "code",
   "execution_count": null,
   "metadata": {
    "collapsed": true
   },
   "outputs": [],
   "source": []
  }
 ],
 "metadata": {
  "kernelspec": {
   "display_name": "Python 3",
   "language": "python",
   "name": "python3"
  },
  "language_info": {
   "codemirror_mode": {
    "name": "ipython",
    "version": 3
   },
   "file_extension": ".py",
   "mimetype": "text/x-python",
   "name": "python",
   "nbconvert_exporter": "python",
   "pygments_lexer": "ipython3",
   "version": "3.4.5"
  }
 },
 "nbformat": 4,
 "nbformat_minor": 2
}
